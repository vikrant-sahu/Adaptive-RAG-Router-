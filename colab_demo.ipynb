{
 "cells": [
  {
   "cell_type": "markdown",
   "metadata": {},
   "source": [
    "# Adaptive RAG Router - Google Colab Demonstration\n\nComplete demonstration of Adaptive RAG Router [1]"
   ]
  },
  {
   "cell_type": "code",
   "execution_count": null,
   "metadata": {},
   "outputs": [],
   "source": [
    "# Cell 1: Setup and Dependency Installation\n",
    "print(\"🚀 Adaptive RAG Router - Colab Demo\") [1]\n",
    "print(\"=\" * 50)\n",
    "\n",
    "print(\"📦 Installing dependencies...\") [1]\n",
    "\n",
    "import subprocess [1]\n",
    "import sys [1]\n",
    "\n",
    "# Define helper function for quiet installation\n",
    "def install_package(package): [1]\n",
    "    subprocess.check_call([sys.executable, \"-m\", \"pip\", \"install\", \"-q\", package]) [1, 4]\n",
    "\n",
    "# Install core packages\n",
    "install_package(\"torch\") [1]\n",
    "install_package(\"transformers\") [4]\n",
    "install_package(\"datasets\") [4]\n",
    "install_package(\"peft\") [4]\n",
    "install_package(\"accelerate\") [4]"
   ]
  },
  {
   "cell_type": "code",
   "execution_count": null,
   "metadata": {},
   "outputs": [],
   "source": [
    "# Cell 2: Module Imports\n",
    "print(\"🔧 Importing modules...\") [4]\n",
    "\n",
    "import torch [4]\n",
    "from data.data_loader import CLINC150DataLoader [4]\n",
    "from models.adaptive_router import create_router_model [4]\n",
    "from training.train_models import ModelTrainer [2]\n",
    "from collections import Counter # Required for Cell 4 [5]\n",
    "\n",
    "print(\"✅ Setup completed!\") [2]"
   ]
  },
  {
   "cell_type": "code",
   "execution_count": null,
   "metadata": {},
   "outputs": [],
   "source": [
    "# Cell 3: Quick Demo Setup and Prediction\n",
    "print(\"\\n🎯 Quick Demo: Domain Classification\") [2]\n",
    "print(\"-\" * 40) [2]\n",
    "\n",
    "# Initialize a small model for demo\n",
    "model = create_router_model(model_type=\"distilbert\", lora_rank=8) [2]\n",
    "\n",
    "# Test queries\n",
    "test_queries = [\n",
    "\"What's my account balance?\", [3]\n",
    "\"I need to transfer money between accounts\", [3]\n",
    "\"What's the weather like today?\", [3]\n",
    "\"Can you help me with my credit card application?\", [3]\n",
    "\"I want to book a flight to New York\", [3]\n",
    "\"How do I reset my password?\", [3]\n",
    "\"What's on my schedule for tomorrow?\", [3]\n",
    "\"Tell me a joke\" [3]\n",
    "]\n",
    "\n",
    "print(\"📝 Testing queries:\") [3]\n",
    "results = model.predict(test_queries) [3]\n",
    "\n",
    "for i, query in enumerate(test_queries):\n",
    "    domain = results[\"domains\"][i]\n",
    "    confidence = max(results[\"probabilities\"][i])\n",
    "    print(f\" '{query}' → {domain} ({confidence:.2f})\") [3]"
   ]
  },
  {
   "cell_type": "code",
   "execution_count": null,
   "metadata": {},
   "outputs": [],
   "source": [
    "# Cell 4: Dataset Information Display\n",
    "print(\"\\n📊 Dataset Information:\") [3]\n",
    "print(\"-\" * 40) [3]\n",
    "\n",
    "data_loader = CLINC150DataLoader() [3]\n",
    "\n",
    "for split in [\"train\", \"validation\", \"test\"]: [3]\n",
    "    dataset = data_loader.load_dataset(split) [3]\n",
    "    domains = [data_loader.extract_domain_from_intent(ex['intent']) for ex in dataset] [3]\n",
    "    domain_counts = Counter(domains) [5]\n",
    "    print(f\"{split:12}: {len(dataset):>5} samples, {len(domain_counts)} domains\") [5]"
   ]
  },
  {
   "cell_type": "code",
   "execution_count": null,
   "metadata": {},
   "outputs": [],
   "source": [
    "# Cell 5: Conclusion\n",
    "print(\"\\n🎉 Demo Completed!\") [5]\n",
    "print(\"Check the project repository for full training and benchmarking capabilities.\") [5]"
   ]
  }
 ],
 "metadata": {
  "kernelspec": {
   "display_name": "Python 3",
   "language": "python",
   "name": "python3"
  },
  "language_info": {
   "codemirror_mode": {
    "name": "ipython",
    "version": 3
   },
   "file_extension": ".py",
   "mimetype": "text/x-python",
   "name": "python",
   "nbconvert_exporter": "python",
   "pygments_lexer": "ipython3",
   "version": "3.11.5"
  }
 },
 "nbformat": 4,
 "nbformat_minor": 5
}