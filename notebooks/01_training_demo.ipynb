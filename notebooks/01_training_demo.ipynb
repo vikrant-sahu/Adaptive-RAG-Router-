{
 "cells": [
  {
   "cell_type": "markdown",
   "id": "27c3d709",
   "metadata": {},
   "source": [
    "# Adaptive RAG Router - Training Demo\n",
    "\n",
    "This notebook demonstrates training the **Adaptive RAG Router** on CLINC150 dataset.\n",
    "\n",
    "Works on both GitHub and Kaggle!"
   ]
  },
  {
   "cell_type": "code",
   "execution_count": null,
   "id": "0cf05822",
   "metadata": {
    "tags": [
     "installation"
    ]
   },
   "outputs": [],
   "source": [
    "import sys\n",
    "import os\n",
    "\n",
    "# Install package if running in Kaggle/Colab\n",
    "if 'kaggle' in os.environ.get('KAGGLE_URL_BASE', '') or 'COLAB_GPU' in os.environ:\n",
    "    !pip install -q transformers datasets peft accelerate torch\n",
    "\n",
    "# For local development, the package would be installed via setup.py"
   ]
  },
  {
   "cell_type": "code",
   "execution_count": null,
   "id": "488e9e7d",
   "metadata": {
    "tags": [
     "imports"
    ]
   },
   "outputs": [],
   "source": [
    "import torch\n",
    "import pandas as pd\n",
    "import matplotlib.pyplot as plt\n",
    "from adaptive_rag_router import (\n",
    "    CLINC150DataLoader,\n",
    "    AdaptiveRAGRouter,\n",
    "    create_router_model,\n",
    "    ModelTrainer\n",
    ")\n",
    "\n",
    "print(\"🚀 Adaptive RAG Router - Training Demo\")\n",
    "print(f\"PyTorch: {torch.__version__}\")\n",
    "print(f\"CUDA: {torch.cuda.is_available()}\")"
   ]
  },
  {
   "cell_type": "code",
   "execution_count": null,
   "id": "a86d97a7",
   "metadata": {
    "tags": [
     "quick-demo"
    ]
   },
   "outputs": [],
   "source": [
    "print(\"🎯 Quick Demo - Model Prediction\")\n",
    "\n",
    "# Initialize a pretrained model\n",
    "model = create_router_model(\"distilbert\")\n",
    "\n",
    "# Test predictions\n",
    "test_queries = [\n",
    "    \"What's my account balance?\",\n",
    "    \"I need to transfer money between accounts\",\n",
    "    \"What's the weather like today?\",\n",
    "    \"Can you help me with my credit card application?\",\n",
    "]\n",
    "\n",
    "results = model.predict(test_queries)\n",
    "\n",
    "print(\"\\n📊 Prediction Results:\")\n",
    "for i, query in enumerate(test_queries):\n",
    "    domain = results[\"domains\"][i]\n",
    "    confidence = results[\"confidences\"][i]\n",
    "    print(f\" '{query}' → {domain} ({confidence:.3f})\")"
   ]
  },
  {
   "cell_type": "code",
   "execution_count": null,
   "id": "8dc8d249",
   "metadata": {
    "tags": [
     "data-exploration"
    ]
   },
   "outputs": [],
   "source": [
    "print(\"\\n📈 Data Exploration\")\n",
    "\n",
    "data_loader = CLINC150DataLoader()\n",
    "train_loader, val_loader, test_loader = data_loader.get_data_loaders(batch_size=8)\n",
    "\n",
    "print(f\"Training batches: {len(train_loader)}\")\n",
    "print(f\"Validation batches: {len(val_loader)}\")\n",
    "print(f\"Test batches: {len(test_loader)}\")\n",
    "\n",
    "# Show domain distribution\n",
    "dataset = data_loader.load_dataset(\"train\", sample_size=1000)\n",
    "domains = [data_loader.extract_domain_from_intent(item['intent']) for item in dataset]\n",
    "\n",
    "from collections import Counter\n",
    "domain_counts = Counter(domains)\n",
    "\n",
    "plt.figure(figsize=(10, 6))\n",
    "plt.bar(domain_counts.keys(), domain_counts.values())\n",
    "plt.title('Domain Distribution in CLINC150')\n",
    "plt.xticks(rotation=45)\n",
    "plt.tight_layout()\n",
    "plt.show()"
   ]
  },
  {
   "cell_type": "code",
   "execution_count": null,
   "id": "30890ee2",
   "metadata": {
    "tags": [
     "training"
    ]
   },
   "outputs": [],
   "source": [
    "print(\"\\n🎓 Model Training\")\n",
    "\n",
    "trainer = ModelTrainer()\n",
    "\n",
    "# For quick demo in cloud environments, use smaller samples\n",
    "if 'KAGGLE_KERNEL_RUN_TYPE' in os.environ or 'COLAB_GPU' in os.environ:\n",
    "    print(\"🏃 Running quick demo training (cloud-optimized)...\")\n",
    "    results = trainer.train_quick_demo()\n",
    "else:\n",
    "    print(\"🔧 Running full training...\")\n",
    "    results = trainer.train_model(\"distilbert\")\n",
    "\n",
    "print(f\"✅ Training completed! Accuracy: {results['test_accuracy']:.4f}\")"
   ]
  },
  {
   "cell_type": "code",
   "execution_count": null,
   "id": "ed800384",
   "metadata": {
    "tags": [
     "evaluation"
    ]
   },
   "outputs": [],
   "source": [
    "print(\"\\n📊 Model Evaluation\")\n",
    "\n",
    "# Load the trained model\n",
    "trained_model = AdaptiveRAGRouter()\n",
    "trained_model.load(results['output_dir'])\n",
    "\n",
    "# Test on sample queries\n",
    "test_queries = [\n",
    "    \"What's my current balance?\",\n",
    "    \"I want to pay my credit card bill\",\n",
    "    \"What's the weather forecast?\",\n",
    "    \"Book a flight to London\",\n",
    "    \"Reset my password please\"\n",
    "]\n",
    "\n",
    "predictions = trained_model.predict(test_queries)\n",
    "\n",
    "print(\"Model Predictions on Test Queries:\")\n",
    "for i, query in enumerate(test_queries):\n",
    "    print(f\" {query:<40} → {predictions['domains'][i]:<20} (conf: {predictions['confidences'][i]:.3f})\")\n",
    "\n",
    "print(\"\\n🎉 Demo completed successfully!\")"
   ]
  }
 ],
 "metadata": {
  "kernelspec": {
   "display_name": "Python 3",
   "language": "python",
   "name": "python3"
  },
  "language_info": {
   "codemirror_mode": {
    "name": "ipython",
    "version": 3
   },
   "file_extension": ".py",
   "mimetype": "text/x-python",
   "name": "python",
   "nbconvert_exporter": "python",
   "pygments_lexer": "ipython3",
   "version": "3.10.12"
  }
 },
 "nbformat": 4,
 "nbformat_minor": 5
}
