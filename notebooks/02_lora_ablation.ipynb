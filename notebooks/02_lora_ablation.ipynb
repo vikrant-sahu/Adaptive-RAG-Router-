{
 "cells": [
  {
   "cell_type": "markdown",
   "metadata": {},
   "source": [
    "# LoRA Ablation Study\n",
    "\n",
    "Comprehensive analysis of different LoRA configurations."
   ]
  },
  {
   "cell_type": "code",
   "execution_count": null,
   "metadata": {
    "tags": [
     "setup"
    ]
   },
   "outputs": [],
   "source": [
    "import sys\n",
    "import os\n",
    "\n",
    "# AFTER\n",
    "IS_KAGGLE = 'KAGGLE_KERNEL_RUN_TYPE' in os.environ\n",
    "IS_COLAB = 'COLAB_GPU' in os.environ\n",
    "\n",
    "if IS_KAGGLE or IS_COLAB:\n",
    "    print(f\"🚀 Running on {'Kaggle' if IS_KAGGLE else 'Colab'}\")\n",
    "    \n",
    "    # Install with no cache to save disk space\n",
    "    !pip install -q --no-cache-dir transformers datasets peft accelerate torch \\\n",
    "                    scikit-learn matplotlib seaborn tqdm\n",
    "    \n",
    "    # Clear pip cache\n",
    "    !rm -rf ~/.cache/pip\n",
    "    \n",
    "    print(\"✅ Dependencies installed\")\n",
    "\n",
    "import torch\n",
    "import pandas as pd\n",
    "import matplotlib.pyplot as plt\n",
    "import seaborn as sns\n",
    "from adaptive_rag_router import LoRAAblationStudy, CLINC150DataLoader\n",
    "\n",
    "print(\"🔬 LoRA Ablation Study\")"
   ]
  },
  {
   "cell_type": "code",
   "execution_count": null,
   "metadata": {
    "tags": [
     "run-ablation"
    ]
   },
   "outputs": [],
   "source": [
    "study = LoRAAblationStudy(output_dir=\"./ablation_results\")\n",
    "\n",
    "# For cloud environments, use smaller sample size\n",
    "sample_size = 500 if ('KAGGLE_KERNEL_RUN_TYPE' in os.environ or 'COLAB_GPU' in os.environ) else 2000\n",
    "results_df = study.run_ablation(\n",
    "    model_types=[\"distilbert\", \"roberta\"],\n",
    "    lora_ranks=[4, 8],\n",
    "    num_samples=sample_size\n",
    ")"
   ]
  },
  {
   "cell_type": "code",
   "execution_count": null,
   "metadata": {
    "tags": [
     "display-results"
    ]
   },
   "outputs": [],
   "source": [
    "print(\"📊 Ablation Study Results\")\n",
    "print(results_df.to_string(index=False))"
   ]
  },
  {
   "cell_type": "code",
   "execution_count": null,
   "metadata": {
    "tags": [
     "visualization"
    ]
   },
   "outputs": [],
   "source": [
    "plt.style.use('default')\n",
    "\n",
    "fig, axes = plt.subplots(2, 2, figsize=(15, 10))\n",
    "\n",
    "# Accuracy vs Rank\n",
    "for model_type in results_df['model_type'].unique():\n",
    "    model_data = results_df[results_df['model_type'] == model_type]\n",
    "    axes[0, 0].plot(model_data['lora_rank'], model_data['accuracy'], 'o-', label=model_type)\n",
    "axes[0, 0].set_title('Accuracy vs LoRA Rank')\n",
    "axes[0, 0].set_xlabel('LoRA Rank')\n",
    "axes[0, 0].set_ylabel('Accuracy')\n",
    "axes[0, 0].legend()\n",
    "axes[0, 0].grid(True, alpha=0.3)\n",
    "\n",
    "# Parameters vs Rank\n",
    "for model_type in results_df['model_type'].unique():\n",
    "    model_data = results_df[results_df['model_type'] == model_type]\n",
    "    axes[0, 1].plot(model_data['lora_rank'], model_data['trainable_params'], 's-', label=model_type)\n",
    "axes[0, 1].set_title('Trainable Parameters vs LoRA Rank')\n",
    "axes[0, 1].set_xlabel('LoRA Rank')\n",
    "axes[0, 1].set_ylabel('Trainable Parameters')\n",
    "axes[0, 1].legend()\n",
    "axes[0, 1].grid(True, alpha=0.3)\n",
    "\n",
    "# Efficiency vs Rank\n",
    "for model_type in results_df['model_type'].unique():\n",
    "    model_data = results_df[results_df['model_type'] == model_type]\n",
    "    axes[1, 0].plot(model_data['lora_rank'], model_data['parameter_efficiency']*100, '^-', label=model_type)\n",
    "axes[1, 0].set_title('Parameter Efficiency vs LoRA Rank')\n",
    "axes[1, 0].set_xlabel('LoRA Rank')\n",
    "axes[1, 0].set_ylabel('Efficiency (%)')\n",
    "axes[1, 0].legend()\n",
    "axes[1, 0].grid(True, alpha=0.3)\n",
    "\n",
    "# Performance vs Efficiency\n",
    "for model_type in results_df['model_type'].unique():\n",
    "    model_data = results_df[results_df['model_type'] == model_type]\n",
    "    axes[1, 1].scatter(model_data['inference_time_ms'], model_data['accuracy'], label=model_type, s=100)\n",
    "    \n",
    "    for _, row in model_data.iterrows():\n",
    "        axes[1, 1].annotate(f\"r={row['lora_rank']}\", \n",
    "                           (row['inference_time_ms'], row['accuracy']), \n",
    "                           fontsize=8)\n",
    "\n",
    "axes[1, 1].set_title('Performance vs Efficiency Trade-off')\n",
    "axes[1, 1].set_xlabel('Inference Time (ms)')\n",
    "axes[1, 1].set_ylabel('Accuracy')\n",
    "axes[1, 1].legend()\n",
    "axes[1, 1].grid(True, alpha=0.3)\n",
    "\n",
    "plt.tight_layout()\n",
    "plt.show()\n",
    "\n",
    "print(\"✅ Ablation study completed!\")"
   ]
  }
 ],
 "metadata": {
  "kernelspec": {
   "display_name": "Python 3",
   "language": "python",
   "name": "python3"
  },
  "language_info": {
   "codemirror_mode": {
    "name": "ipython",
    "version": 3
   },
   "file_extension": ".py",
   "mimetype": "text/x-python",
   "name": "python",
   "nbconvert_exporter": "python",
   "pygments_lexer": "ipython3",
   "version": "3.10.12"
  }
 },
 "nbformat": 4,
 "nbformat_minor": 5
}
